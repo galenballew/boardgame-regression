{
 "cells": [
  {
   "cell_type": "code",
   "execution_count": null,
   "metadata": {
    "collapsed": true
   },
   "outputs": [],
   "source": [
    "import csv\n",
    "import time\n",
    "import requests\n",
    "from bs4 import BeautifulSoup\n",
    "\n",
    "def get_val(tag, term):\n",
    "    try:\n",
    "        val = tag.find(term)['value'].encode('utf_8', 'ignore')\n",
    "    except:\n",
    "        val = 'NaN'\n",
    "    return val\n",
    "\n",
    "base = 'http://www.boardgamegeek.com/xmlapi2/thing?id={}&stats=1'\n",
    "with open('ids.txt') as f:\n",
    "    ids = [line.strip() for line in f.readlines()]\n",
    "split = 30\n",
    "f = open('games.csv', 'w', encoding='utf8')\n",
    "writer = csv.writer(f)\n",
    "writer.writerow(('yearpublished', 'average_rating', 'average_weight'))\n",
    "for i in range(0, len(ids), split):\n",
    "    url = base.format(','.join(ids[i:i+split]))\n",
    "    print('Requesting {}'.format(url))\n",
    "    req = requests.get(url)\n",
    "    soup = BeautifulSoup(req.content, 'xml')\n",
    "    \n",
    "    items = soup.find_all('item')\n",
    "    \n",
    "    for item in items:\n",
    "        gyear = get_val(item, 'yearpublished')\n",
    "        avg = get_val(item.statistics.ratings, 'average')\n",
    "        avgweight = get_val(item.statistics.ratings, 'averageweight')\n",
    "        category1 = get_val(item.link['type' == 'boardgamecategory'])\n",
    "        category2 = \n",
    "        category3 = \n",
    "        category4 = \n",
    "        mech1 = \n",
    "        mech2 = \n",
    "        mech3 = \n",
    "        mech4 = \n",
    "        mech5 =\n",
    "        mech6 = \n",
    "        mech7 = \n",
    "        family1 = \n",
    "        family2 = \n",
    "        family3 = \n",
    "        writer.writerow((gyear.decode(), avg.decode(), avgweight.decode()))\n",
    "    \n",
    "    time.sleep(2)\n",
    "f.close()"
   ]
  }
 ],
 "metadata": {
  "kernelspec": {
   "display_name": "Python [conda root]",
   "language": "python",
   "name": "conda-root-py"
  },
  "language_info": {
   "codemirror_mode": {
    "name": "ipython",
    "version": 3
   },
   "file_extension": ".py",
   "mimetype": "text/x-python",
   "name": "python",
   "nbconvert_exporter": "python",
   "pygments_lexer": "ipython3",
   "version": "3.5.2"
  }
 },
 "nbformat": 4,
 "nbformat_minor": 2
}
